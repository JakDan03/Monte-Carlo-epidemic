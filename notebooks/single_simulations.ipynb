{
 "cells": [
  {
   "cell_type": "code",
   "execution_count": 3,
   "id": "7dc41f1a-b9fa-4095-9d85-e09bfdfe84f9",
   "metadata": {},
   "outputs": [
    {
     "ename": "ModuleNotFoundError",
     "evalue": "No module named 'sim_functions'",
     "output_type": "error",
     "traceback": [
      "\u001b[1;31m---------------------------------------------------------------------------\u001b[0m",
      "\u001b[1;31mModuleNotFoundError\u001b[0m                       Traceback (most recent call last)",
      "Cell \u001b[1;32mIn[3], line 5\u001b[0m\n\u001b[0;32m      3\u001b[0m \u001b[38;5;66;03m# importowanie funkcji do symulacji\u001b[39;00m\n\u001b[0;32m      4\u001b[0m sys\u001b[38;5;241m.\u001b[39mpath\u001b[38;5;241m.\u001b[39mappend(\u001b[38;5;124m'\u001b[39m\u001b[38;5;124m../src\u001b[39m\u001b[38;5;124m'\u001b[39m)\n\u001b[1;32m----> 5\u001b[0m \u001b[38;5;28;01mfrom\u001b[39;00m \u001b[38;5;21;01msim_functions\u001b[39;00m \u001b[38;5;28;01mimport\u001b[39;00m symulacja_bazowa, symulacja_choroby, symulacja_choroby_szczepionka\n",
      "\u001b[1;31mModuleNotFoundError\u001b[0m: No module named 'sim_functions'"
     ]
    }
   ],
   "source": [
    "import sys\n",
    "\n",
    "# importowanie funkcji do symulacji\n",
    "sys.path.append('../src')\n",
    "from sim_functions import symulacja_bazowa, symulacja_choroby, symulacja_choroby_szczepionka"
   ]
  },
  {
   "cell_type": "code",
   "execution_count": null,
   "id": "f31359b7-ed66-4135-9f0d-89b218be03e8",
   "metadata": {},
   "outputs": [],
   "source": [
    "# symulacja bazowa - tylko standardowe urodzenia i zgony\n",
    "\n",
    "(\n",
    "    zdrowi_k_stan_baza,\n",
    "    zdrowi_m_stan_baza,\n",
    "    urodzeni_k_stan_baza,\n",
    "    urodzeni_m_stan_baza,\n",
    "    zmarli_ogolem_k_stan_baza,\n",
    "    zmarli_ogolem_m_stan_baza\n",
    ") = symulacja_bazowa()"
   ]
  },
  {
   "cell_type": "code",
   "execution_count": null,
   "id": "777031b8-38aa-4734-8622-527dc4fb0be1",
   "metadata": {},
   "outputs": [],
   "source": [
    "# symulacja choroby - w i-tym dniu zarażane jest losowo wybrane 5 osób\n",
    "\n",
    "(\n",
    "    zdrowi_k_stan,\n",
    "    zdrowi_m_stan,\n",
    "    urodzeni_k_stan,\n",
    "    urodzeni_m_stan,\n",
    "    zmarli_ogolem_k_stan,\n",
    "    zmarli_ogolem_m_stan,\n",
    "    chorzy_k_stan,\n",
    "    chorzy_m_stan,\n",
    "    ozdrowiali_k_stan,\n",
    "    ozdrowiali_m_stan,\n",
    "    ponownie_chorzy_k_stan,\n",
    "    ponownie_chorzy_m_stan,\n",
    "    zmarli_choroba_k_stan,\n",
    "    zmarli_choroba_m_stan\n",
    ") = symulacja_choroby()"
   ]
  },
  {
   "cell_type": "code",
   "execution_count": null,
   "id": "296fdcf8-472a-48e8-bbfe-91d9e2061cbc",
   "metadata": {},
   "outputs": [],
   "source": [
    "# symulacja choroby szczepionka - w j-tym dniu rozpoczynane są regularne szczepienia\n",
    "\n",
    "(   \n",
    "    zdrowi_k_stan_2,\n",
    "    zdrowi_m_stan_2,\n",
    "    urodzeni_k_stan_2,\n",
    "    urodzeni_m_stan_2,\n",
    "    zmarli_ogolem_k_stan_2,\n",
    "    zmarli_ogolem_m_stan_2,\n",
    "    chorzy_k_stan_2,\n",
    "    chorzy_m_stan_2,\n",
    "    ozdrowiali_k_stan_2,\n",
    "    ozdrowiali_m_stan_2,\n",
    "    ponownie_chorzy_k_stan_2,\n",
    "    ponownie_chorzy_m_stan_2,\n",
    "    zmarli_choroba_k_stan_2,\n",
    "    zmarli_choroba_m_stan_2,\n",
    "    zaszczepieni_k_stan,\n",
    "    zaszczepieni_m_stan\n",
    ") = symulacja_choroby_szczepionka()"
   ]
  }
 ],
 "metadata": {
  "kernelspec": {
   "display_name": "Python [conda env:base] *",
   "language": "python",
   "name": "conda-base-py"
  },
  "language_info": {
   "codemirror_mode": {
    "name": "ipython",
    "version": 3
   },
   "file_extension": ".py",
   "mimetype": "text/x-python",
   "name": "python",
   "nbconvert_exporter": "python",
   "pygments_lexer": "ipython3",
   "version": "3.12.3"
  }
 },
 "nbformat": 4,
 "nbformat_minor": 5
}
