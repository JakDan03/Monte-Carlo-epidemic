{
 "cells": [
  {
   "cell_type": "markdown",
   "id": "01f015b3-e28c-4c21-b812-cd5b06097384",
   "metadata": {},
   "source": [
    "### Do importu funkcji do symulacji w git codespace"
   ]
  },
  {
   "cell_type": "code",
   "execution_count": null,
   "id": "72e3c4a9-78d7-4ca9-9afd-f543ad8e2473",
   "metadata": {},
   "outputs": [],
   "source": [
    "# Klonowanie repozytorium\n",
    "!git clone https://github.com/JakDan03/Monte-Carlo-epidemic.git"
   ]
  },
  {
   "cell_type": "code",
   "execution_count": null,
   "id": "81f930a8-94e5-4de4-aec0-de7c4bd5b506",
   "metadata": {},
   "outputs": [],
   "source": [
    "# Ewentualne usunięcie repozytorium w celu jego aktualizacji\n",
    "!rm -rf Monte-Carlo-epidemic"
   ]
  },
  {
   "cell_type": "code",
   "execution_count": null,
   "id": "991728c2-636c-4e84-8d26-f096843037f4",
   "metadata": {},
   "outputs": [],
   "source": [
    "# instalacja silnika do otwierania Excela\n",
    "%pip install openpyxl"
   ]
  },
  {
   "cell_type": "code",
   "execution_count": null,
   "id": "7f611685-7c88-4fef-a004-219f6424d636",
   "metadata": {},
   "outputs": [],
   "source": [
    "import sys\n",
    "import os\n",
    "\n",
    "# import funkcji odpowiedzialnych za symulacje\n",
    "sys.path.append(os.path.abspath(\"../src\"))\n",
    "from sim_functions import symulacja_choroby_szczepionka"
   ]
  },
  {
   "cell_type": "markdown",
   "id": "3e88e0c4-1b6c-4b21-8814-487b14f51b6f",
   "metadata": {},
   "source": [
    "### Analiza wrażliwości - jak rozdysponowanie szczepionek między zdrowych a ozdrowiałych (zmiana parametru alfa) wpłynie na śmiertelność?"
   ]
  },
  {
   "cell_type": "code",
   "execution_count": null,
   "id": "9f984150-0c4c-4c66-a904-4b9c3f9020de",
   "metadata": {},
   "outputs": [],
   "source": [
    "# parametry\n",
    "import numpy as np\n",
    "\n",
    "liczba_dni = 1000\n",
    "liczba_przebiegow = 100\n",
    "szczepionka_start = 400\n",
    "alfa_values = np.linspace(0, 1, 11) # od 0 do 1 co 0,1"
   ]
  },
  {
   "cell_type": "code",
   "execution_count": null,
   "id": "1c1acf9f-9408-4401-998d-a2cc16f6c0cb",
   "metadata": {},
   "outputs": [],
   "source": [
    "# miejsce na średnią liczbę zgonów dla każdej wartości parametru alfa\n",
    "wyniki = {alfa: 0 for alfa in alfa_values)}\n",
    "\n",
    "# dla każdej wartości alfy\n",
    "for alfa_val in alfa_values:\n",
    "    \n",
    "    # stwórz miejsce na liczbę zmarłych\n",
    "    zmarli_func = np.zeros(liczba_przebiegow)\n",
    "\n",
    "    # dla każdego przebiegu symulacji\n",
    "    for przebieg in range(liczba_przebiegow):\n",
    "\n",
    "        # wykonaj symulację\n",
    "        (   \n",
    "            zdrowi_k_stan_2,\n",
    "            zdrowi_m_stan_2,\n",
    "            urodzeni_k_stan_2,\n",
    "            urodzeni_m_stan_2,\n",
    "            zmarli_ogolem_k_stan_2,\n",
    "            zmarli_ogolem_m_stan_2,\n",
    "            chorzy_k_stan_2,\n",
    "            chorzy_m_stan_2,\n",
    "            ozdrowiali_k_stan_2,\n",
    "            ozdrowiali_m_stan_2,\n",
    "            ponownie_chorzy_k_stan_2,\n",
    "            ponownie_chorzy_m_stan_2,\n",
    "            zmarli_choroba_k_stan_2,\n",
    "            zmarli_choroba_m_stan_2,\n",
    "            zaszczepieni_k_stan,\n",
    "            zaszczepieni_m_stan\n",
    "        ) = symulacja_choroby_szczepionka(liczba_dni = liczba_dni, szczepionka_start = szczepionka_start, alfa = alfa_val)\n",
    "\n",
    "        # zapisz liczbę zmarłych\n",
    "        zmarli_func[przebieg] = sum(zmarli_ogolem_k_stan_2 + zmarli_ogolem_m_stan_2)\n",
    "\n",
    "    # zapisz średnią łączną liczbę zmarłych jako wynik\n",
    "    wyniki[alfa_val] = np.mean(zmarli_func)"
   ]
  },
  {
   "cell_type": "code",
   "execution_count": null,
   "id": "d027a4da-cf3e-4987-a601-201aeb9e8330",
   "metadata": {},
   "outputs": [],
   "source": [
    "# znajdź wartość alfy minimalizującą liczbę zgonów\n",
    "alfa_best = alfa_values[np.argmin(wyniki)]\n",
    "print(f\"Najlepsze alfa: {alfa_best}\")"
   ]
  },
  {
   "cell_type": "markdown",
   "id": "996aedd7-acfc-4694-afef-53a79f009533",
   "metadata": {},
   "source": [
    "### Wizualizacja wyników na wykresie"
   ]
  },
  {
   "cell_type": "code",
   "execution_count": null,
   "id": "79da178c-4792-4690-8590-a2ef13a81831",
   "metadata": {},
   "outputs": [],
   "source": [
    "import matplotlib.pyplot as plt\n",
    "plt.style.use(\"dark_background\")\n",
    "\n",
    "# Wykres\n",
    "plt.figure(figsize=(8, 5))\n",
    "plt.plot(list(wyniki.keys()), list(wyniki.values()), marker='o', linestyle='-', color='royalblue')\n",
    "plt.xlabel(\"Wartość parametru alfa\")\n",
    "plt.ylabel(\"Łączna liczba zmarłych\")\n",
    "plt.title(\"Łączna liczba zmarłych w zależności od strategii szczepień (n=\" + str(liczba_przebiegow) + \")\")\n",
    "plt.xticks(alfa_values)\n",
    "plt.grid(False)\n",
    "plt.tight_layout()\n",
    "plt.show()"
   ]
  },
  {
   "cell_type": "markdown",
   "id": "be2f34ef-56e6-4e93-82fd-2ca2591cedd1",
   "metadata": {},
   "source": [
    "### Zapis wyników symulacji do csv"
   ]
  },
  {
   "cell_type": "code",
   "execution_count": null,
   "id": "236c7fbe-bf7e-47d2-a1fb-0613a83c8634",
   "metadata": {},
   "outputs": [],
   "source": [
    "# Tworzenie DataFrame\n",
    "df_sensitivity = pd.DataFrame({\n",
    "    'alfa': alfa_values,\n",
    "    'wynik': wyniki\n",
    "})\n",
    "\n",
    "# Zapis do pliku csv\n",
    "df_sensitivity.to_csv('sensitivity.csv', index=False, encoding='utf-8')"
   ]
  }
 ],
 "metadata": {
  "kernelspec": {
   "display_name": "Python [conda env:base] *",
   "language": "python",
   "name": "conda-base-py"
  },
  "language_info": {
   "codemirror_mode": {
    "name": "ipython",
    "version": 3
   },
   "file_extension": ".py",
   "mimetype": "text/x-python",
   "name": "python",
   "nbconvert_exporter": "python",
   "pygments_lexer": "ipython3",
   "version": "3.12.3"
  }
 },
 "nbformat": 4,
 "nbformat_minor": 5
}
